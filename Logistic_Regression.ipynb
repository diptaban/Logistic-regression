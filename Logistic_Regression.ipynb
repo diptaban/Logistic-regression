{
  "nbformat": 4,
  "nbformat_minor": 0,
  "metadata": {
    "colab": {
      "provenance": [],
      "authorship_tag": "ABX9TyPltVY53ozCoMLzrHxiqCmF",
      "include_colab_link": true
    },
    "kernelspec": {
      "name": "python3",
      "display_name": "Python 3"
    },
    "language_info": {
      "name": "python"
    }
  },
  "cells": [
    {
      "cell_type": "markdown",
      "metadata": {
        "id": "view-in-github",
        "colab_type": "text"
      },
      "source": [
        "<a href=\"https://colab.research.google.com/github/diptaban/Logistic-regression/blob/main/Logistic_Regression.ipynb\" target=\"_parent\"><img src=\"https://colab.research.google.com/assets/colab-badge.svg\" alt=\"Open In Colab\"/></a>"
      ]
    },
    {
      "cell_type": "markdown",
      "source": [
        "Logistic Regression"
      ],
      "metadata": {
        "id": "t3D6FwEzE1j2"
      }
    },
    {
      "cell_type": "code",
      "execution_count": 12,
      "metadata": {
        "id": "JRMTQkI1Ey60"
      },
      "outputs": [],
      "source": [
        "import numpy as np \n",
        "from numpy import log,dot,e,shape\n",
        "import matplotlib.pyplot as plt"
      ]
    },
    {
      "cell_type": "code",
      "source": [
        "from sklearn.datasets import make_classification\n",
        "X,y = make_classification(n_features = 4,n_classes=2)\n",
        "from sklearn.model_selection import train_test_split  \n",
        "X_tr,X_te,y_tr,y_te = train_test_split(X,y,test_size=0.1)"
      ],
      "metadata": {
        "id": "cT1IvjdTFJ88"
      },
      "execution_count": 13,
      "outputs": []
    },
    {
      "cell_type": "code",
      "source": [
        "print(shape(X_tr))\n",
        "print(X_tr[:,1])"
      ],
      "metadata": {
        "id": "kWnDtkeu9vFY",
        "colab": {
          "base_uri": "https://localhost:8080/"
        },
        "outputId": "bde1d545-a5cb-49a0-ef6f-fca6deef991f"
      },
      "execution_count": 14,
      "outputs": [
        {
          "output_type": "stream",
          "name": "stdout",
          "text": [
            "(90, 4)\n",
            "[ 1.59421642e+00  9.34207340e-01  1.84709736e+00 -7.98303843e-01\n",
            " -1.50309108e+00 -9.52393322e-01 -3.11829998e+00  5.70172956e-02\n",
            "  6.31198217e-01  3.28885817e-01 -3.89659595e-02 -1.85962039e+00\n",
            "  1.79560892e+00 -7.11605717e-01 -8.96409432e-02 -1.44157224e+00\n",
            "  3.85500406e-01  9.41478798e-01 -8.35713217e-01 -6.19278613e-01\n",
            " -1.70010967e+00 -1.61778595e+00 -6.00240103e-01 -1.43426443e+00\n",
            "  9.47470469e-01  1.49138751e+00  9.79239112e-01  1.45749447e+00\n",
            " -5.53206645e-01  4.16638965e-01 -2.38858893e+00  1.45601055e+00\n",
            "  8.33592863e-02  5.33959913e-01 -7.17960174e-01 -1.18834750e+00\n",
            " -1.72907491e+00 -3.29003425e-01  7.18926616e-02 -1.36281038e+00\n",
            "  4.87523868e-02 -1.64707568e-01  6.77296290e-01 -1.50847516e+00\n",
            " -4.20910158e-01 -1.41478962e+00  2.27627812e+00  1.16356496e+00\n",
            "  5.16743609e-01  5.89494373e-01  6.34622299e-01  1.47283353e+00\n",
            " -8.74775976e-01  9.98233820e-01 -8.03428340e-01 -1.67828734e+00\n",
            " -6.15846210e-01  1.06632761e+00 -4.52415599e-01  1.12706393e+00\n",
            "  3.75397994e-01  2.44058272e+00 -1.46327036e+00 -6.21839344e-01\n",
            " -3.11087127e-02 -1.73932430e-01 -6.34363090e-01  9.62991932e-01\n",
            " -1.09952099e+00  8.08256256e-01  8.57259477e-01  4.54696307e-02\n",
            " -1.73597355e+00 -6.20102343e-01 -1.95370433e+00 -4.14061081e-01\n",
            "  7.48061194e-01  6.32207599e-01  1.73941057e+00  5.03600976e-01\n",
            "  3.18039830e+00 -1.35927654e+00 -1.36077324e+00 -5.11443599e-01\n",
            "  2.91949721e-03  4.42802664e-01 -2.73412413e+00  6.17839627e-01\n",
            "  8.44073674e-01 -1.67679112e+00]\n"
          ]
        }
      ]
    },
    {
      "cell_type": "code",
      "source": [
        "def standardize(X_tr):\n",
        "    for i in range(shape(X_tr)[1]):\n",
        "        X_tr[:,i] = (X_tr[:,i] - np.mean(X_tr[:,i]))/np.std(X_tr[:,i])"
      ],
      "metadata": {
        "id": "iLBbAQPlFNPz"
      },
      "execution_count": 15,
      "outputs": []
    },
    {
      "cell_type": "code",
      "source": [
        "def initialize(X):\n",
        "        weights = np.zeros((shape(X)[1]+1,1))\n",
        "        X = np.c_[np.ones((shape(X)[0],1)),X] #Translates slice objects to concatenation along the second axis.\n",
        "        return weights,X"
      ],
      "metadata": {
        "id": "jedgfjmcFWP6"
      },
      "execution_count": 16,
      "outputs": []
    },
    {
      "cell_type": "code",
      "source": [
        "def sigmoid(z):\n",
        "        sig = 1/(1+e**(-z))\n",
        "        return sig"
      ],
      "metadata": {
        "id": "5BUeTQPcFZv7"
      },
      "execution_count": 17,
      "outputs": []
    },
    {
      "cell_type": "code",
      "source": [
        "def cost(theta):\n",
        "            z = dot(X,theta)\n",
        "            cost0 = y.T.dot(log(sigmoid(z)))\n",
        "            cost1 = (1-y).T.dot(log(1-sigmoid(z)))\n",
        "            cost = -((cost1 + cost0))/len(y) \n",
        "            return cost"
      ],
      "metadata": {
        "id": "Bf6ludJ9FgdT"
      },
      "execution_count": 18,
      "outputs": []
    },
    {
      "cell_type": "code",
      "source": [
        "def fit(X,y,alpha=0.001,iter=100):\n",
        "        params,X = initialize(X)\n",
        "        cost_list = np.zeros(iter,)\n",
        "        for i in range(iter):\n",
        "            params = params - alpha * dot(X.T, sigmoid(dot(X,params)) - np.reshape(y,(len(y),1)))\n",
        "            cost_list[i] = cost(params)\n",
        "        params = params\n",
        "        return cost_list"
      ],
      "metadata": {
        "id": "3J6XWbJrF0_L"
      },
      "execution_count": 19,
      "outputs": []
    },
    {
      "cell_type": "code",
      "source": [
        "def predict(X):\n",
        "        z = dot(initialize(X)[1],weights)\n",
        "        lis = []\n",
        "        for i in sigmoid(z):\n",
        "            if i>0.5:\n",
        "                lis.append(1)\n",
        "            else:\n",
        "                lis.append(0)\n",
        "        return lis"
      ],
      "metadata": {
        "id": "8hiqTvEtGAHO"
      },
      "execution_count": 20,
      "outputs": []
    },
    {
      "cell_type": "code",
      "source": [
        "def f1_score(y,y_hat):\n",
        "    tp,tn,fp,fn = 0,0,0,0\n",
        "    for i in range(len(y)):\n",
        "        if y[i] == 1 and y_hat[i] == 1:\n",
        "            tp += 1\n",
        "        elif y[i] == 1 and y_hat[i] == 0:\n",
        "            fn += 1\n",
        "        elif y[i] == 0 and y_hat[i] == 1:\n",
        "            fp += 1\n",
        "        elif y[i] == 0 and y_hat[i] == 0:\n",
        "            tn += 1\n",
        "    precision = tp/(tp+fp)\n",
        "    recall = tp/(tp+fn)\n",
        "    f1_score = 2*precision*recall/(precision+recall)\n",
        "    return f1_score"
      ],
      "metadata": {
        "id": "bFOc9PecGKey"
      },
      "execution_count": 21,
      "outputs": []
    },
    {
      "cell_type": "code",
      "source": [
        "import numpy as np \n",
        "from numpy import log,dot,exp,shape\n",
        "import matplotlib.pyplot as plt\n",
        "from sklearn.datasets import make_classification\n",
        "X,y = make_classification(n_features = 4,n_classes=2)\n",
        "from sklearn.model_selection import train_test_split  \n",
        "X_tr,X_te,y_tr,y_te = train_test_split(X,y,test_size=0.1)\n",
        "\n",
        "def standardize(X_tr):\n",
        "    for i in range(shape(X_tr)[1]):\n",
        "        X_tr[:,i] = (X_tr[:,i] - np.mean(X_tr[:,i]))/np.std(X_tr[:,i])\n",
        "\n",
        "def F1_score(y,y_hat):\n",
        "    tp,tn,fp,fn = 0,0,0,0\n",
        "    for i in range(len(y)):\n",
        "        if y[i] == 1 and y_hat[i] == 1:\n",
        "            tp += 1\n",
        "        elif y[i] == 1 and y_hat[i] == 0:\n",
        "            fn += 1\n",
        "        elif y[i] == 0 and y_hat[i] == 1:\n",
        "            fp += 1\n",
        "        elif y[i] == 0 and y_hat[i] == 0:\n",
        "            tn += 1\n",
        "    precision = tp/(tp+fp)\n",
        "    recall = tp/(tp+fn)\n",
        "    f1_score = 2*precision*recall/(precision+recall)\n",
        "    return f1_score\n",
        "\n",
        "class LogisticRegression:\n",
        "    def sigmoid(self,z):\n",
        "        sig = 1/(1+exp(-z))\n",
        "        return sig\n",
        "    def initialize(self,X):\n",
        "        weights = np.zeros((shape(X)[1]+1,1))\n",
        "        X = np.c_[np.ones((shape(X)[0],1)),X]\n",
        "        return weights,X\n",
        "\n",
        "    def fit(self,X,y,alpha=0.001,iter=400):\n",
        "        weights,X = self.initialize(X)\n",
        "\n",
        "        def cost(theta):\n",
        "            z = dot(X,theta)\n",
        "            cost0 = y.T.dot(log(self.sigmoid(z)))\n",
        "            cost1 = (1-y).T.dot(log(1-self.sigmoid(z)))\n",
        "            cost = -((cost1 + cost0))/len(y)\n",
        "            return cost\n",
        "            \n",
        "        cost_list = np.zeros(iter,)\n",
        "\n",
        "        for i in range(iter):\n",
        "            weights = weights - alpha*dot(X.T,self.sigmoid(dot(X,weights))-np.reshape(y,(len(y),1)))\n",
        "            cost_list[i] = cost(weights)\n",
        "        self.weights = weights # final optimized weights or thetas\n",
        "        return cost_list\n",
        "\n",
        "    def predict(self,X):\n",
        "        z = dot(self.initialize(X)[1],self.weights)\n",
        "        lis = []\n",
        "        for i in self.sigmoid(z):\n",
        "            if i>0.5:\n",
        "                lis.append(1)\n",
        "            else:\n",
        "                lis.append(0)\n",
        "        return lis\n",
        "\n"
      ],
      "metadata": {
        "id": "PuTSzC9iHTJ1"
      },
      "execution_count": 22,
      "outputs": []
    },
    {
      "cell_type": "code",
      "source": [
        "standardize(X_tr)\n",
        "standardize(X_te)\n",
        "obj1 = LogisticRegression()\n",
        "model= obj1.fit(X_tr,y_tr)\n",
        "y_pred_test_data = obj1.predict(X_te)\n",
        "y_pred_train_data = obj1.predict(X_tr)\n",
        "#Let's see the f1-score for training and testing data\n",
        "f1_score_tr = F1_score(y_tr,y_pred_train_data)\n",
        "f1_score_te = F1_score(y_te,y_pred_test_data)\n",
        "\n",
        "print(f1_score_tr)\n",
        "print(f1_score_te)\n",
        "\n",
        "import matplotlib.pyplot as plt\n",
        "\n",
        "plt.plot(model)"
      ],
      "metadata": {
        "colab": {
          "base_uri": "https://localhost:8080/",
          "height": 320
        },
        "id": "8wv85HuSeHFb",
        "outputId": "c162720b-4761-461c-8f58-5b1557019083"
      },
      "execution_count": 23,
      "outputs": [
        {
          "output_type": "stream",
          "name": "stdout",
          "text": [
            "0.8048780487804876\n",
            "0.7692307692307693\n"
          ]
        },
        {
          "output_type": "execute_result",
          "data": {
            "text/plain": [
              "[<matplotlib.lines.Line2D at 0x7f154439b4d0>]"
            ]
          },
          "metadata": {},
          "execution_count": 23
        },
        {
          "output_type": "display_data",
          "data": {
            "text/plain": [
              "<Figure size 432x288 with 1 Axes>"
            ],
            "image/png": "[encoded data removed]"
          },
          "metadata": {
            "needs_background": "light"
          }
        }
      ]
    }
  ]
}